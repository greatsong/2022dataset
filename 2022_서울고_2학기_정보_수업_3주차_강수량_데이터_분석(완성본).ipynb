{
  "nbformat": 4,
  "nbformat_minor": 0,
  "metadata": {
    "colab": {
      "provenance": [],
      "collapsed_sections": [],
      "authorship_tag": "ABX9TyNOYgjclJeyq33oVFANeVvB",
      "include_colab_link": true
    },
    "kernelspec": {
      "name": "python3",
      "display_name": "Python 3"
    },
    "language_info": {
      "name": "python"
    }
  },
  "cells": [
    {
      "cell_type": "markdown",
      "metadata": {
        "id": "view-in-github",
        "colab_type": "text"
      },
      "source": [
        "<a href=\"https://colab.research.google.com/github/greatsong/2022dataset/blob/main/2022_%EC%84%9C%EC%9A%B8%EA%B3%A0_2%ED%95%99%EA%B8%B0_%EC%A0%95%EB%B3%B4_%EC%88%98%EC%97%85_3%EC%A3%BC%EC%B0%A8_%EA%B0%95%EC%88%98%EB%9F%89_%EB%8D%B0%EC%9D%B4%ED%84%B0_%EB%B6%84%EC%84%9D(%EC%99%84%EC%84%B1%EB%B3%B8).ipynb\" target=\"_parent\"><img src=\"https://colab.research.google.com/assets/colab-badge.svg\" alt=\"Open In Colab\"/></a>"
      ]
    },
    {
      "cell_type": "markdown",
      "source": [
        "### 0. 복습 : 그래프를 그리는 3단계!  \n",
        "#### 1) 그래프를 그릴 때 필요한 함수 꾸러미(라이브러리) 불러오기!  \n",
        "#### 2) 그래프 종류 골라서 함수로 알려주고, 데이터 입력하기!  \n",
        "#### 3) 보여줘!"
      ],
      "metadata": {
        "id": "e-jHuAavmJEH"
      }
    },
    {
      "cell_type": "markdown",
      "source": [
        "#### 코드로 작성한다면?!"
      ],
      "metadata": {
        "id": "OZZB0TCvoS1p"
      }
    },
    {
      "cell_type": "markdown",
      "source": [
        "```\n",
        "import matplotlib.pyplot as plt\n",
        "plt.그래프종류(데이터)\n",
        "plt.show()\n",
        "```\n",
        "\n"
      ],
      "metadata": {
        "id": "Go_WWBIlocbe"
      }
    },
    {
      "cell_type": "markdown",
      "source": [
        "### 1. 기본 그래프 TOP 5!\n"
      ],
      "metadata": {
        "id": "l9Bsb9iyyFmo"
      }
    },
    {
      "cell_type": "markdown",
      "source": [
        "#### 1) 꺾은선 그래프(plot)  \n",
        "\n",
        "\n",
        "```\n",
        "plt.plot([x],y)\n",
        "```\n"
      ],
      "metadata": {
        "id": "MEC-XKL0ap29"
      }
    },
    {
      "cell_type": "markdown",
      "source": [
        "#### 2) 막대 그래프(bar, barh)  \n",
        "```\n",
        "plt.bar(x,y)\n",
        "```\n"
      ],
      "metadata": {
        "id": "ECeskR8BTn5m"
      }
    },
    {
      "cell_type": "markdown",
      "source": [
        "#### 3) 히스토그램(hist)  \n",
        "```\n",
        "plt.hist(data[,bins = n])\n",
        "```\n"
      ],
      "metadata": {
        "id": "lr_92WufUp94"
      }
    },
    {
      "cell_type": "markdown",
      "source": [
        "#### 4) 박스플랏(boxplot)  \n",
        "```\n",
        "plt.boxplot(data)\n",
        "```"
      ],
      "metadata": {
        "id": "JXs70fB2SKin"
      }
    },
    {
      "cell_type": "markdown",
      "source": [
        "#### 5) 산점도(scatter)  \n",
        "```\n",
        "plt.scatter(x, y)\n",
        "```"
      ],
      "metadata": {
        "id": "VWGj_ycnaVpW"
      }
    },
    {
      "cell_type": "markdown",
      "source": [
        "### 2. 그래프를 꾸며봅시다!"
      ],
      "metadata": {
        "id": "5F0J72e_T6Lj"
      }
    },
    {
      "cell_type": "markdown",
      "source": [
        "#### 0) 한글 폰트 설치(for 코랩)"
      ],
      "metadata": {
        "id": "9OndUX_Eas6L"
      }
    },
    {
      "cell_type": "code",
      "source": [
        "!apt-get install fonts-nanum\n",
        "import matplotlib as mpl\n",
        "mpl.font_manager._rebuild()\n",
        "findfont = mpl.font_manager.fontManager.findfont\n",
        "mpl.font_manager.findfont = findfont\n",
        "mpl.backends.backend_agg.findfont = findfont"
      ],
      "metadata": {
        "id": "NtFEQXZNT-Ac"
      },
      "execution_count": null,
      "outputs": []
    },
    {
      "cell_type": "markdown",
      "source": [
        "#### 1) 한글 폰트 세팅 및 제목 만들기 "
      ],
      "metadata": {
        "id": "PWXogbGlbVvJ"
      }
    },
    {
      "cell_type": "code",
      "source": [
        "import matplotlib.pyplot as plt\n",
        "plt.rcParams['axes.unicode_minus'] = False\n",
        "plt.rc('font', family = 'NanumGothic')\n",
        "plt.title('나눔고딕체')\n",
        "plt.plot([-1,0,1])\n",
        "plt.show()\n",
        "plt.rc('font', family = 'NanumMyeongjo')\n",
        "plt.title('나눔명조체')\n",
        "plt.plot([-1,0,1])\n",
        "plt.show()"
      ],
      "metadata": {
        "id": "vISMpVA9UElQ"
      },
      "execution_count": null,
      "outputs": []
    },
    {
      "cell_type": "markdown",
      "source": [
        "### * tip : 배달의 민족 한나체 설치하기"
      ],
      "metadata": {
        "id": "dX7NR-B_xHWz"
      }
    },
    {
      "cell_type": "code",
      "source": [
        "!apt-get install fonts-woowa-hanna\n",
        "import matplotlib as mpl\n",
        "mpl.font_manager._rebuild()\n",
        "findfont = mpl.font_manager.fontManager.findfont\n",
        "mpl.font_manager.findfont = findfont\n",
        "mpl.backends.backend_agg.findfont = findfont"
      ],
      "metadata": {
        "id": "Vs_zlzZLvUlM"
      },
      "execution_count": null,
      "outputs": []
    },
    {
      "cell_type": "code",
      "source": [
        "plt.rc('font', family = 'BM HANNA_TTF')\n",
        "plt.title('배달의 민족 한나체')\n",
        "plt.plot([-1,0,1])\n",
        "plt.show()"
      ],
      "metadata": {
        "id": "sfdeoF2bwbDu"
      },
      "execution_count": null,
      "outputs": []
    },
    {
      "cell_type": "code",
      "source": [
        "plt.figure(dpi = 200)\n",
        "plt.rc('font', family = 'BM HANNA_TTF')\n",
        "plt.title('배달의 민족 한나체')\n",
        "plt.plot([-1,0,1])\n",
        "plt.show()"
      ],
      "metadata": {
        "id": "kAdRZIT_1UFE"
      },
      "execution_count": null,
      "outputs": []
    },
    {
      "cell_type": "code",
      "source": [
        "plt.figure(dpi = 200)\n",
        "plt.style.use('ggplot')\n",
        "plt.rc('font', family = 'BM HANNA_TTF')\n",
        "plt.title('배달의 민족 한나체')\n",
        "plt.plot([-1,0,1])\n",
        "plt.show()"
      ],
      "metadata": {
        "id": "JVjxn0ei1dbU"
      },
      "execution_count": null,
      "outputs": []
    },
    {
      "cell_type": "markdown",
      "source": [
        "### 3. 25년치 강수량 데이터 불러오기"
      ],
      "metadata": {
        "id": "W2aNMMKy1qdV"
      }
    },
    {
      "cell_type": "code",
      "source": [
        "!git clone https://github.com/greatsong/2022dataset"
      ],
      "metadata": {
        "id": "ZfK0C-G1ybG0"
      },
      "execution_count": null,
      "outputs": []
    },
    {
      "cell_type": "code",
      "source": [
        "cd 2022dataset"
      ],
      "metadata": {
        "id": "VDHOepwvybgS"
      },
      "execution_count": null,
      "outputs": []
    },
    {
      "cell_type": "code",
      "source": [
        "ls"
      ],
      "metadata": {
        "id": "umELY0Nryc5m"
      },
      "execution_count": null,
      "outputs": []
    },
    {
      "cell_type": "markdown",
      "source": [
        "### 실습1-1. 전체 데이터 불러오기"
      ],
      "metadata": {
        "id": "WD5hdLOR2HX8"
      }
    },
    {
      "cell_type": "code",
      "source": [
        "import csv\n",
        "data = csv.reader(open('seoulrain.csv'))\n",
        "data = list(data)\n",
        "\n",
        "for row in data[:5] :\n",
        "  print(row)"
      ],
      "metadata": {
        "id": "LXxgxgKCyeKi"
      },
      "execution_count": null,
      "outputs": []
    },
    {
      "cell_type": "code",
      "source": [
        "import csv\n",
        "data = csv.reader(open('seoulrain.csv'))\n",
        "next(data)\n",
        "data = list(data)\n",
        "\n",
        "for row in data[:5] :\n",
        "  print(row)"
      ],
      "metadata": {
        "id": "UF8sda5TyxNc"
      },
      "execution_count": null,
      "outputs": []
    },
    {
      "cell_type": "markdown",
      "source": [
        "### 실습1-2. 원하는 지역 데이터만 살펴보기"
      ],
      "metadata": {
        "id": "sqFwatZ42DWS"
      }
    },
    {
      "cell_type": "code",
      "source": [
        "for row in data :\n",
        "  if row[1] == '서초' : \n",
        "    print(row)"
      ],
      "metadata": {
        "id": "Njtqa3T1ygxT"
      },
      "execution_count": null,
      "outputs": []
    },
    {
      "cell_type": "markdown",
      "source": [
        "### 실습1-3. 하루에 100mm 이상 온 날은?"
      ],
      "metadata": {
        "id": "15nvNLv12Q3K"
      }
    },
    {
      "cell_type": "code",
      "source": [
        "for row in data :\n",
        "  if row[1] == '서초' : \n",
        "    if float(row[3]) >= 100 :\n",
        "      print(row)"
      ],
      "metadata": {
        "id": "vVZcWfGVyqBB"
      },
      "execution_count": null,
      "outputs": []
    },
    {
      "cell_type": "markdown",
      "source": [
        "### 실습1-4. 데이터 리스트에 차곡차곡 저장하기"
      ],
      "metadata": {
        "id": "6muHX68S2mIX"
      }
    },
    {
      "cell_type": "code",
      "source": [
        "# rain이라는 이름의 리스트 만들기\n",
        "rain = []\n",
        "for row in data :\n",
        "  if row[1] == '서초' : \n",
        "    rain.append(float(row[3]))"
      ],
      "metadata": {
        "id": "232xTwuw2lhz"
      },
      "execution_count": null,
      "outputs": []
    },
    {
      "cell_type": "markdown",
      "source": [
        "### 실습1-5. 데이터 시각화하기"
      ],
      "metadata": {
        "id": "FW69I6qp2iZV"
      }
    },
    {
      "cell_type": "code",
      "source": [
        "# 지난 25년간, 강수량을 시각화해서 살펴보면?\n",
        "import matplotlib.pyplot as plt\n",
        "plt.plot(rain)\n",
        "plt.show()"
      ],
      "metadata": {
        "id": "UfCnIuL_2VxZ"
      },
      "execution_count": null,
      "outputs": []
    },
    {
      "cell_type": "markdown",
      "source": [
        "### 실습1-6. 강수량이 0을 초과한 날의 그래프만 그려보면?"
      ],
      "metadata": {
        "id": "5IQATzTA3gyy"
      }
    },
    {
      "cell_type": "code",
      "source": [
        "# rain0이라는 이름의 리스트 만들기\n",
        "rain0 = []\n",
        "for row in data :\n",
        "  if row[1] == '서초' : \n",
        "    if float(row[3]) > 0 : \n",
        "      rain0.append(float(row[3]))"
      ],
      "metadata": {
        "id": "AtQYDy9t3SPI"
      },
      "execution_count": null,
      "outputs": []
    },
    {
      "cell_type": "code",
      "source": [
        "import matplotlib.pyplot as plt\n",
        "plt.plot(rain0)\n",
        "plt.show()"
      ],
      "metadata": {
        "id": "G2vk9YTj3qxV"
      },
      "execution_count": null,
      "outputs": []
    },
    {
      "cell_type": "code",
      "source": [
        "plt.bar([0,1], [len(rain) - len(rain0), len(rain0)])\n",
        "plt.show()"
      ],
      "metadata": {
        "id": "eqQE3dDM3u9Q"
      },
      "execution_count": null,
      "outputs": []
    },
    {
      "cell_type": "code",
      "source": [
        "plt.figure(dpi = 300)\n",
        "plt.title('1997 ~ 2022까지 서초 지역의 비가 온 날과 오지 않은 날의 비율 분석')\n",
        "plt.pie([len(rain) - len(rain0), len(rain0)], autopct = '%.2f%%', labels = ['비가 온 날', '비가 안온 날'])\n",
        "plt.show()"
      ],
      "metadata": {
        "id": "eufGLr9j30yk"
      },
      "execution_count": null,
      "outputs": []
    },
    {
      "cell_type": "markdown",
      "source": [
        "### 탐구 예시. 2022년 8월과 다른 해 8월의 강수량 분석해보기"
      ],
      "metadata": {
        "id": "L-OpwRNzu58m"
      }
    },
    {
      "cell_type": "code",
      "source": [
        "rain2022 = []\n",
        "rain8 = []\n",
        "for row in data : \n",
        "  if row[1] == '서초' and int(row[2][5:7]) == 8 : \n",
        "    if int(row[2][:4]) == 2022 : \n",
        "      rain2022.append(float(row[3]))\n",
        "    else :\n",
        "      rain8.append(float(row[3]))"
      ],
      "metadata": {
        "id": "KNGUggJhxtli"
      },
      "execution_count": null,
      "outputs": []
    },
    {
      "cell_type": "code",
      "source": [
        "rain2022_avg = sum(rain2022) / len(rain2022)\n",
        "rain8_avg = sum(rain8) / len(rain8)"
      ],
      "metadata": {
        "id": "P8b_Ir_hxtoa"
      },
      "execution_count": null,
      "outputs": []
    },
    {
      "cell_type": "code",
      "source": [
        "import matplotlib.pyplot as plt\n",
        "plt.figure(dpi = 200)\n",
        "plt.title('2022년과 다른 해의 8월 평균 강수량 비교 분석')\n",
        "plt.bar([0,1], [rain2022_avg, rain8_avg])\n",
        "plt.xticks([0,1], ['2022년','다른 해'])\n",
        "plt.show()"
      ],
      "metadata": {
        "id": "qU64V1eqyIDG"
      },
      "execution_count": null,
      "outputs": []
    },
    {
      "cell_type": "markdown",
      "source": [
        "### 심화 탐구. 리스트 속 리스트를 활용해서 26년 간의 8월 평균 강수량 데이터 분석해보기"
      ],
      "metadata": {
        "id": "V8BN-Qam0tPu"
      }
    },
    {
      "cell_type": "code",
      "source": [
        "rain = []\n",
        "for i in range(5) : \n",
        "  rain.append([])\n",
        "print(rain)"
      ],
      "metadata": {
        "id": "Pyu47YTF5qK_"
      },
      "execution_count": null,
      "outputs": []
    },
    {
      "cell_type": "code",
      "source": [
        "rain = []\n",
        "for i in range(26) : \n",
        "  rain.append([])\n",
        "\n",
        "for row in data : \n",
        "  if row[1] == '기상청' and int(row[2][5:7]) == 8 : \n",
        "    rain[int(row[2][0:4])-1997].append(float(row[3]))"
      ],
      "metadata": {
        "id": "BfVlV_5ZyXYq"
      },
      "execution_count": null,
      "outputs": []
    },
    {
      "cell_type": "code",
      "source": [
        "# 평균 계산을 위한 avg 함수 정의하기\n",
        "def avg(d) :\n",
        "  return sum(d) / len(d)"
      ],
      "metadata": {
        "id": "kZNHU77uzsBL"
      },
      "execution_count": null,
      "outputs": []
    },
    {
      "cell_type": "code",
      "source": [
        "result = []\n",
        "for i in range(26) : \n",
        "  result.append(avg(rain[i]))"
      ],
      "metadata": {
        "id": "AHle_GHszjah"
      },
      "execution_count": null,
      "outputs": []
    },
    {
      "cell_type": "code",
      "source": [
        "import matplotlib.pyplot as plt\n",
        "plt.figure(dpi = 200)\n",
        "plt.title('1997년 ~ 2022년 8월 평균 강수량 비교 분석(기상청)')\n",
        "plt.bar(range(1997,2023), result)\n",
        "plt.xticks(range(1997,2023), range(1997,2023), rotation = 75)\n",
        "plt.show()"
      ],
      "metadata": {
        "id": "WZn0NL9mzJaI"
      },
      "execution_count": null,
      "outputs": []
    },
    {
      "cell_type": "code",
      "source": [
        "rain = []\n",
        "for i in range(26) : \n",
        "  rain.append([])\n",
        "\n",
        "for row in data : \n",
        "  if row[1] == '서초' and int(row[2][5:7]) == 8 : \n",
        "    rain[int(row[2][0:4])-1997].append(float(row[3]))\n",
        "\n",
        "result = []\n",
        "for i in range(26) : \n",
        "  result.append(avg(rain[i]))\n",
        "\n",
        "import matplotlib.pyplot as plt\n",
        "plt.figure(dpi = 200)\n",
        "plt.title('1997년 ~ 2022년 8월 평균 강수량 비교 분석(서초구)')\n",
        "plt.bar(range(1997,2023), result)\n",
        "plt.xticks(range(1997,2023), range(1997,2023), rotation = 75)\n",
        "plt.savefig('1997년 ~ 2022년 8월 평균 강수량 비교 분석(서초구).png')\n",
        "plt.show()"
      ],
      "metadata": {
        "id": "g0X81f9Lvdwu"
      },
      "execution_count": null,
      "outputs": []
    }
  ]
}